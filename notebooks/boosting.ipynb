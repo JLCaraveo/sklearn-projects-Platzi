{
 "cells": [
  {
   "cell_type": "code",
   "execution_count": 1,
   "source": [
    "import pandas as pd\n",
    "\n",
    "from sklearn.ensemble import GradientBoostingClassifier\n",
    "\n",
    "from sklearn.model_selection import train_test_split\n",
    "from sklearn.metrics import accuracy_score"
   ],
   "outputs": [],
   "metadata": {}
  },
  {
   "cell_type": "code",
   "execution_count": 2,
   "source": [
    "df_heart = pd.read_csv('../data/raw/heart.csv')\n",
    "\n",
    "x = df_heart.drop(['target'], axis=1)\n",
    "y = df_heart['target']\n",
    "\n",
    "x_train, x_test, y_train, y_test = train_test_split(x,y, test_size=0.35)\n",
    "\n",
    "boost_class = GradientBoostingClassifier( n_estimators=50).fit(x_train, y_train)\n",
    "\n",
    "boost_pred = boost_class.predict(x_test)\n",
    "\n",
    "print('BAG Accuracy: %f'%accuracy_score(boost_pred, y_test))"
   ],
   "outputs": [
    {
     "output_type": "stream",
     "name": "stdout",
     "text": [
      "BAG Accuracy: 0.941504\n"
     ]
    }
   ],
   "metadata": {}
  },
  {
   "cell_type": "code",
   "execution_count": null,
   "source": [],
   "outputs": [],
   "metadata": {}
  }
 ],
 "metadata": {
  "orig_nbformat": 4,
  "language_info": {
   "name": "python",
   "version": "3.7.10",
   "mimetype": "text/x-python",
   "codemirror_mode": {
    "name": "ipython",
    "version": 3
   },
   "pygments_lexer": "ipython3",
   "nbconvert_exporter": "python",
   "file_extension": ".py"
  },
  "kernelspec": {
   "name": "python3",
   "display_name": "Python 3.7.10 64-bit ('base': conda)"
  },
  "interpreter": {
   "hash": "772ceb515ad4a229c201202a382457a25ed4681969a0e6962f15f573201a5bfb"
  }
 },
 "nbformat": 4,
 "nbformat_minor": 2
}