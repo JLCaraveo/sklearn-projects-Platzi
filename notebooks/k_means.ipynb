{
 "cells": [
  {
   "cell_type": "code",
   "execution_count": 1,
   "source": [
    "import pandas as pd\n",
    "\n",
    "from sklearn.cluster import MiniBatchKMeans\n",
    "from sklearn.cluster import KMeans"
   ],
   "outputs": [],
   "metadata": {}
  },
  {
   "cell_type": "code",
   "execution_count": 3,
   "source": [
    "df_candies = pd.read_csv('../data/raw/candy.csv')\n",
    "\n",
    "x = df_candies.drop('competitorname', axis=1)"
   ],
   "outputs": [],
   "metadata": {}
  },
  {
   "cell_type": "code",
   "execution_count": 4,
   "source": [
    "mini_kmeans = MiniBatchKMeans(n_clusters=4, batch_size=8).fit(x)\n",
    "\n",
    "mini_kmeans_pred = mini_kmeans.predict(x)\n",
    "\n",
    "print(mini_kmeans_pred)"
   ],
   "outputs": [
    {
     "output_type": "stream",
     "name": "stdout",
     "text": [
      "[1 1 2 0 0 0 0 2 2 2 2 2 2 0 2 0 2 0 0 2 0 0 0 1 0 1 2 0 3 2 2 0 3 1 0 0 3\n",
      " 1 1 0 0 0 1 1 2 2 0 1 2 2 2 3 3 3 3 2 1 2 0 2 1 0 2 0 3 1 1 0 1 2 2 2 2 0\n",
      " 0 0 0 0 0 3 0 2 0 0 0]\n"
     ]
    }
   ],
   "metadata": {}
  },
  {
   "cell_type": "code",
   "execution_count": 5,
   "source": [
    "kmeans = KMeans(n_clusters=4).fit(x)\n",
    "kmeans_pred = kmeans.predict(x)\n",
    "print(kmeans_pred)"
   ],
   "outputs": [
    {
     "output_type": "stream",
     "name": "stdout",
     "text": [
      "[2 2 1 3 0 0 0 1 3 1 3 1 1 3 3 3 3 3 0 1 0 3 0 0 0 0 1 0 2 3 3 0 2 2 3 0 2\n",
      " 0 2 3 0 0 2 2 1 3 3 2 3 3 3 2 2 2 2 1 2 1 3 1 0 0 3 3 2 0 0 0 2 1 1 1 1 0\n",
      " 3 3 3 0 3 2 3 3 3 3 0]\n"
     ]
    }
   ],
   "metadata": {}
  },
  {
   "cell_type": "code",
   "execution_count": 6,
   "source": [
    "compare = [1 if mini_kmeans_pred[i] == kmeans_pred[i] else 0 for i in range(0,len(x))]\n",
    "\n",
    "print(compare)"
   ],
   "outputs": [
    {
     "output_type": "stream",
     "name": "stdout",
     "text": [
      "[0, 0, 0, 0, 1, 1, 1, 0, 0, 0, 0, 0, 0, 0, 0, 0, 0, 0, 1, 0, 1, 0, 1, 0, 1, 0, 0, 1, 0, 0, 0, 1, 0, 0, 0, 1, 0, 0, 0, 0, 1, 1, 0, 0, 0, 0, 0, 0, 0, 0, 0, 0, 0, 0, 0, 0, 0, 0, 0, 0, 0, 1, 0, 0, 0, 0, 0, 1, 0, 0, 0, 0, 0, 1, 0, 0, 0, 1, 0, 0, 0, 0, 0, 0, 1]\n"
     ]
    }
   ],
   "metadata": {}
  },
  {
   "cell_type": "code",
   "execution_count": null,
   "source": [],
   "outputs": [],
   "metadata": {}
  }
 ],
 "metadata": {
  "orig_nbformat": 4,
  "language_info": {
   "name": "python",
   "version": "3.7.10",
   "mimetype": "text/x-python",
   "codemirror_mode": {
    "name": "ipython",
    "version": 3
   },
   "pygments_lexer": "ipython3",
   "nbconvert_exporter": "python",
   "file_extension": ".py"
  },
  "kernelspec": {
   "name": "python3",
   "display_name": "Python 3.7.10 64-bit ('base': conda)"
  },
  "interpreter": {
   "hash": "772ceb515ad4a229c201202a382457a25ed4681969a0e6962f15f573201a5bfb"
  }
 },
 "nbformat": 4,
 "nbformat_minor": 2
}