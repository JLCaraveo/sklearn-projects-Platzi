{
 "cells": [
  {
   "cell_type": "code",
   "execution_count": 8,
   "source": [
    "import pandas as pd\n",
    "from sklearn.linear_model import RANSACRegressor, HuberRegressor\n",
    "\n",
    "from sklearn.svm import SVR\n",
    "\n",
    "from sklearn.model_selection import train_test_split\n",
    "from sklearn.metrics import mean_squared_error"
   ],
   "outputs": [],
   "metadata": {}
  },
  {
   "cell_type": "code",
   "execution_count": 9,
   "source": [
    "dataset = pd.read_csv('../data/raw/felicidad.csv')\n",
    "print(dataset.head())\n",
    "\n",
    "x = dataset.drop(['country', 'score'], axis=1)\n",
    "y = dataset['score']"
   ],
   "outputs": [
    {
     "output_type": "stream",
     "name": "stdout",
     "text": [
      "       country  rank  score      high       low       gdp    family    lifexp  \\\n",
      "0       Norway     1  7.537  7.594445  7.479556  1.616463  1.533524  0.796667   \n",
      "1      Denmark     2  7.522  7.581728  7.462272  1.482383  1.551122  0.792566   \n",
      "2      Iceland     3  7.504  7.622030  7.385970  1.480633  1.610574  0.833552   \n",
      "3  Switzerland     4  7.494  7.561772  7.426227  1.564980  1.516912  0.858131   \n",
      "4      Finland     5  7.469  7.527542  7.410458  1.443572  1.540247  0.809158   \n",
      "\n",
      "    freedom  generosity  corruption  dystopia  \n",
      "0  0.635423    0.362012    0.315964  2.277027  \n",
      "1  0.626007    0.355280    0.400770  2.313707  \n",
      "2  0.627163    0.475540    0.153527  2.322715  \n",
      "3  0.620071    0.290549    0.367007  2.276716  \n",
      "4  0.617951    0.245483    0.382612  2.430182  \n"
     ]
    }
   ],
   "metadata": {}
  },
  {
   "cell_type": "code",
   "execution_count": 10,
   "source": [
    "x_train, x_test, y_train, y_test = train_test_split(x,y, test_size=0.3, random_state=42)"
   ],
   "outputs": [],
   "metadata": {}
  },
  {
   "cell_type": "code",
   "execution_count": 11,
   "source": [
    "estimators = {\n",
    "    'SVR' : SVR(gamma='auto', C=1.0, epsilon=0.1),\n",
    "    'RANSAC' : RANSACRegressor(),\n",
    "    'HUBER': HuberRegressor(epsilon=1.35)\n",
    "}"
   ],
   "outputs": [],
   "metadata": {}
  },
  {
   "cell_type": "code",
   "execution_count": 12,
   "source": [
    "for name, estimator in estimators.items():\n",
    "    estimator.fit(x_train, y_train)\n",
    "    predictions = estimator.predict(x_test)\n",
    "    print('_'*64)\n",
    "    print(name)\n",
    "    print('MSE: %f'%mean_squared_error(y_test, predictions))"
   ],
   "outputs": [
    {
     "output_type": "stream",
     "name": "stdout",
     "text": [
      "________________________________________________________________\n",
      "SVR\n",
      "MSE: 0.074558\n",
      "________________________________________________________________\n",
      "RANSAC\n",
      "MSE: 0.000000\n",
      "________________________________________________________________\n",
      "HUBER\n",
      "MSE: 0.000002\n"
     ]
    },
    {
     "output_type": "stream",
     "name": "stderr",
     "text": [
      "/home/joseh/anaconda3/lib/python3.7/site-packages/sklearn/linear_model/_huber.py:296: ConvergenceWarning: lbfgs failed to converge (status=1):\n",
      "STOP: TOTAL NO. of ITERATIONS REACHED LIMIT.\n",
      "\n",
      "Increase the number of iterations (max_iter) or scale the data as shown in:\n",
      "    https://scikit-learn.org/stable/modules/preprocessing.html\n",
      "  self.n_iter_ = _check_optimize_result(\"lbfgs\", opt_res, self.max_iter)\n"
     ]
    }
   ],
   "metadata": {}
  },
  {
   "cell_type": "code",
   "execution_count": null,
   "source": [],
   "outputs": [],
   "metadata": {}
  }
 ],
 "metadata": {
  "orig_nbformat": 4,
  "language_info": {
   "name": "python",
   "version": "3.7.10",
   "mimetype": "text/x-python",
   "codemirror_mode": {
    "name": "ipython",
    "version": 3
   },
   "pygments_lexer": "ipython3",
   "nbconvert_exporter": "python",
   "file_extension": ".py"
  },
  "kernelspec": {
   "name": "python3",
   "display_name": "Python 3.7.10 64-bit ('base': conda)"
  },
  "interpreter": {
   "hash": "772ceb515ad4a229c201202a382457a25ed4681969a0e6962f15f573201a5bfb"
  }
 },
 "nbformat": 4,
 "nbformat_minor": 2
}