{
 "cells": [
  {
   "cell_type": "code",
   "execution_count": 11,
   "source": [
    "import pandas as pd\n",
    "import sklearn\n",
    "\n",
    "from sklearn.linear_model import LinearRegression\n",
    "from sklearn.linear_model import Lasso\n",
    "from sklearn.linear_model import Ridge\n",
    "from sklearn.linear_model import ElasticNet\n",
    "\n",
    "from sklearn.model_selection import train_test_split\n",
    "from sklearn.metrics import mean_squared_error"
   ],
   "outputs": [],
   "metadata": {}
  },
  {
   "cell_type": "code",
   "execution_count": 3,
   "source": [
    "dataset = pd.read_csv('../data/raw/felicidad.csv')\n",
    "print(dataset.describe())\n",
    "\n",
    "#Extrayendo los features y target\n",
    "x = dataset[['gdp', 'family', 'lifexp', 'freedom', 'corruption', 'generosity', 'dystopia']]\n",
    "y = dataset[['score']]\n",
    "\n",
    "print(x.shape)\n",
    "print(y.shape)"
   ],
   "outputs": [
    {
     "output_type": "stream",
     "name": "stdout",
     "text": [
      "             rank       score        high         low         gdp      family  \\\n",
      "count  155.000000  155.000000  155.000000  155.000000  155.000000  155.000000   \n",
      "mean    78.000000    5.354019    5.452326    5.255713    0.984718    1.188898   \n",
      "std     44.888751    1.131230    1.118542    1.145030    0.420793    0.287263   \n",
      "min      1.000000    2.693000    2.864884    2.521116    0.000000    0.000000   \n",
      "25%     39.500000    4.505500    4.608172    4.374955    0.663371    1.042635   \n",
      "50%     78.000000    5.279000    5.370032    5.193152    1.064578    1.253918   \n",
      "75%    116.500000    6.101500    6.194600    6.006527    1.318027    1.414316   \n",
      "max    155.000000    7.537000    7.622030    7.479556    1.870766    1.610574   \n",
      "\n",
      "           lifexp     freedom  generosity  corruption    dystopia  \n",
      "count  155.000000  155.000000  155.000000  155.000000  155.000000  \n",
      "mean     0.551341    0.408786    0.246883    0.123120    1.850238  \n",
      "std      0.237073    0.149997    0.134780    0.101661    0.500028  \n",
      "min      0.000000    0.000000    0.000000    0.000000    0.377914  \n",
      "25%      0.369866    0.303677    0.154106    0.057271    1.591291  \n",
      "50%      0.606042    0.437454    0.231538    0.089848    1.832910  \n",
      "75%      0.723008    0.516561    0.323762    0.153296    2.144654  \n",
      "max      0.949492    0.658249    0.838075    0.464308    3.117485  \n",
      "(155, 7)\n",
      "(155, 1)\n"
     ]
    }
   ],
   "metadata": {}
  },
  {
   "cell_type": "code",
   "execution_count": 4,
   "source": [
    "#Particionando el dataset en training y test\n",
    "X_train, X_test, Y_train, Y_test = train_test_split(x, y, test_size=0.25, random_state=0)"
   ],
   "outputs": [],
   "metadata": {}
  },
  {
   "cell_type": "code",
   "execution_count": 5,
   "source": [
    "#Aplicando los regresores\n",
    "linear_model = LinearRegression()\n",
    "linear_model.fit(X_train, Y_train)\n",
    "y_predict_linear = linear_model.predict(X_test)"
   ],
   "outputs": [],
   "metadata": {}
  },
  {
   "cell_type": "code",
   "execution_count": 6,
   "source": [
    "#Aplicando la regularizacion Lasso\n",
    "model_lasso = Lasso(alpha=0.02)\n",
    "model_lasso.fit(X_train, Y_train)\n",
    "y_predict_lasso = model_lasso.predict(X_test)"
   ],
   "outputs": [],
   "metadata": {}
  },
  {
   "cell_type": "code",
   "execution_count": 7,
   "source": [
    "#Aplicando la regularizacion Ridge\n",
    "model_ridge = Ridge(alpha=1)\n",
    "model_ridge.fit(X_train, Y_train)\n",
    "y_predict_ridge = model_ridge.predict(X_test)"
   ],
   "outputs": [],
   "metadata": {}
  },
  {
   "cell_type": "code",
   "execution_count": 12,
   "source": [
    "#Aplicando la regularizacion ElasticNet\n",
    "elastic_net = ElasticNet(random_state=0)\n",
    "elastic_net.fit(X_train, Y_train)\n",
    "y_predict_elastic = elastic_net.predict(X_test)"
   ],
   "outputs": [],
   "metadata": {}
  },
  {
   "cell_type": "code",
   "execution_count": 13,
   "source": [
    "#Comparando las perdidas de los modelos aplicados\n",
    "linear_loss = mean_squared_error(Y_test, y_predict_linear)\n",
    "print('Linear Loss: {}'.format(linear_loss))\n",
    "\n",
    "lasso_loss = mean_squared_error(Y_test, y_predict_lasso)\n",
    "print('Lasso Loss: {}'.format(lasso_loss))\n",
    "\n",
    "rigde_loss = mean_squared_error(Y_test, y_predict_ridge)\n",
    "print('Ridge Loss: {}'.format(rigde_loss))\n",
    "\n",
    "elastic_loss = mean_squared_error(Y_test, y_predict_elastic)\n",
    "print('Elastic Loss: {}'.format(elastic_loss))"
   ],
   "outputs": [
    {
     "output_type": "stream",
     "name": "stdout",
     "text": [
      "Linear Loss: 9.113627069641011e-08\n",
      "Lasso Loss: 0.04613142141272006\n",
      "Ridge Loss: 0.005158990858509747\n",
      "Elastic Loss: 1.1991244060565747\n"
     ]
    }
   ],
   "metadata": {}
  },
  {
   "cell_type": "code",
   "execution_count": 9,
   "source": [
    "#Imprimiento los coeficientes para cada modelo\n",
    "print('Coef Lasso: {}'.format(model_lasso.coef_))\n",
    "print('Coef Ridge: {}'.format(model_ridge.coef_))"
   ],
   "outputs": [
    {
     "output_type": "stream",
     "name": "stdout",
     "text": [
      "Coef Lasso: [1.35269253 0.86910384 0.37857477 0.83535984 0.         0.22914234\n",
      " 0.90887934]\n",
      "Coef Ridge: [[1.08843372 0.95300018 0.84338277 0.90422291 0.64360573 0.76090281\n",
      "  0.96456701]]\n"
     ]
    }
   ],
   "metadata": {}
  },
  {
   "cell_type": "code",
   "execution_count": null,
   "source": [],
   "outputs": [],
   "metadata": {}
  }
 ],
 "metadata": {
  "orig_nbformat": 4,
  "language_info": {
   "name": "python",
   "version": "3.7.10",
   "mimetype": "text/x-python",
   "codemirror_mode": {
    "name": "ipython",
    "version": 3
   },
   "pygments_lexer": "ipython3",
   "nbconvert_exporter": "python",
   "file_extension": ".py"
  },
  "kernelspec": {
   "name": "python3",
   "display_name": "Python 3.7.10 64-bit ('base': conda)"
  },
  "interpreter": {
   "hash": "772ceb515ad4a229c201202a382457a25ed4681969a0e6962f15f573201a5bfb"
  }
 },
 "nbformat": 4,
 "nbformat_minor": 2
}