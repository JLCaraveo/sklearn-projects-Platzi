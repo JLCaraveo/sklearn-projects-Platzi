{
 "cells": [
  {
   "cell_type": "code",
   "execution_count": 1,
   "source": [
    "import pandas as pd\n",
    "\n",
    "from sklearn.model_selection import RandomizedSearchCV\n",
    "\n",
    "from sklearn.ensemble import RandomForestRegressor"
   ],
   "outputs": [],
   "metadata": {}
  },
  {
   "cell_type": "code",
   "execution_count": 3,
   "source": [
    "dataset = pd.read_csv('../data/raw/felicidad.csv')\n",
    "\n",
    "x = dataset.drop(['country', 'rank', 'score'], axis=1)\n",
    "y = dataset['score']\n",
    "\n",
    "reg = RandomForestRegressor()\n",
    "\n",
    "params = {\n",
    "    'n_estimators': range(4,16),\n",
    "    'criterion': ['mse', 'mae'],\n",
    "    'max_depth': range(2,11) \n",
    "}"
   ],
   "outputs": [],
   "metadata": {}
  },
  {
   "cell_type": "code",
   "execution_count": 4,
   "source": [
    "rand_est = RandomizedSearchCV(reg, params, n_iter=10, cv=3, scoring='neg_mean_absolute_error').fit(x,y)"
   ],
   "outputs": [],
   "metadata": {}
  },
  {
   "cell_type": "code",
   "execution_count": 5,
   "source": [
    "print(rand_est.best_estimator_)\n",
    "print(rand_est.best_params_)\n",
    "print(rand_est.predict(x.loc[[0]]))"
   ],
   "outputs": [
    {
     "output_type": "stream",
     "name": "stdout",
     "text": [
      "RandomForestRegressor(criterion='mae', max_depth=7, n_estimators=7)\n",
      "{'n_estimators': 7, 'max_depth': 7, 'criterion': 'mae'}\n",
      "[7.48714277]\n"
     ]
    }
   ],
   "metadata": {}
  },
  {
   "cell_type": "code",
   "execution_count": null,
   "source": [],
   "outputs": [],
   "metadata": {}
  }
 ],
 "metadata": {
  "orig_nbformat": 4,
  "language_info": {
   "name": "python",
   "version": "3.7.10",
   "mimetype": "text/x-python",
   "codemirror_mode": {
    "name": "ipython",
    "version": 3
   },
   "pygments_lexer": "ipython3",
   "nbconvert_exporter": "python",
   "file_extension": ".py"
  },
  "kernelspec": {
   "name": "python3",
   "display_name": "Python 3.7.10 64-bit ('base': conda)"
  },
  "interpreter": {
   "hash": "772ceb515ad4a229c201202a382457a25ed4681969a0e6962f15f573201a5bfb"
  }
 },
 "nbformat": 4,
 "nbformat_minor": 2
}