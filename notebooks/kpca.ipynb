{
 "cells": [
  {
   "cell_type": "code",
   "execution_count": 1,
   "source": [
    "import pandas as pd\n",
    "import sklearn \n",
    "import matplotlib.pyplot as plt\n",
    "\n",
    "from sklearn.decomposition import KernelPCA\n",
    "\n",
    "from sklearn.linear_model import LogisticRegression\n",
    "\n",
    "from sklearn.preprocessing import StandardScaler\n",
    "from sklearn.model_selection import train_test_split"
   ],
   "outputs": [],
   "metadata": {}
  },
  {
   "cell_type": "code",
   "execution_count": 3,
   "source": [
    "df_heart = pd.read_csv('../data/raw/heart.csv')\n",
    "print(df_heart.head()) \n",
    "\n",
    "#Obteniendo los features\n",
    "df_features = df_heart.drop(['target'], axis=1)\n",
    "#Obteniendo el target\n",
    "df_target = df_heart['target']\n",
    "\n",
    "#Normalizando los datos (transformandolos para su procesamiento)\n",
    "df_features = StandardScaler().fit_transform(df_features)\n",
    "\n",
    "#Obteniendo el conjunto de entrenamiento y el de testing\n",
    "X_train, X_test, Y_train, Y_test = train_test_split(df_features, df_target, test_size=0.3, random_state=42)\n",
    "\n",
    "#Comparando el conjunto de datos\n",
    "print(X_train.shape)\n",
    "print(Y_train.shape)"
   ],
   "outputs": [
    {
     "output_type": "stream",
     "name": "stdout",
     "text": [
      "   age  sex  cp  trestbps  chol  fbs  restecg  thalach  exang  oldpeak  slope  \\\n",
      "0   52    1   0       125   212    0        1      168      0      1.0      2   \n",
      "1   53    1   0       140   203    1        0      155      1      3.1      0   \n",
      "2   70    1   0       145   174    0        1      125      1      2.6      0   \n",
      "3   61    1   0       148   203    0        1      161      0      0.0      2   \n",
      "4   62    0   0       138   294    1        1      106      0      1.9      1   \n",
      "\n",
      "   ca  thal  target  \n",
      "0   2     3       0  \n",
      "1   0     3       0  \n",
      "2   0     3       0  \n",
      "3   1     3       0  \n",
      "4   3     2       0  \n",
      "(717, 13)\n",
      "(717,)\n"
     ]
    }
   ],
   "metadata": {}
  },
  {
   "cell_type": "code",
   "execution_count": 4,
   "source": [
    "#Aplicando el algoritmo kpca\n",
    "#El numero de componentes es opcional\n",
    "kpca = KernelPCA(n_components=4, kernel='poly')\n",
    "kpca.fit(X_train)\n",
    "#Tranformando los datos\n",
    "df_train = kpca.transform(X_train)\n",
    "df_test = kpca.transform(X_test)\n",
    "#Regresion logistica\n",
    "logistic = LogisticRegression(solver='lbfgs')\n",
    "logistic.fit(df_train, Y_train)\n",
    "\n",
    "#Comprobando la efectividad\n",
    "print('Score kpca: {}'.format(logistic.score(df_test, Y_test)))\n"
   ],
   "outputs": [
    {
     "output_type": "stream",
     "name": "stdout",
     "text": [
      "Score kpca: 0.7987012987012987\n"
     ]
    }
   ],
   "metadata": {}
  },
  {
   "cell_type": "code",
   "execution_count": null,
   "source": [],
   "outputs": [],
   "metadata": {}
  }
 ],
 "metadata": {
  "orig_nbformat": 4,
  "language_info": {
   "name": "python",
   "version": "3.7.10",
   "mimetype": "text/x-python",
   "codemirror_mode": {
    "name": "ipython",
    "version": 3
   },
   "pygments_lexer": "ipython3",
   "nbconvert_exporter": "python",
   "file_extension": ".py"
  },
  "kernelspec": {
   "name": "python3",
   "display_name": "Python 3.7.10 64-bit ('base': conda)"
  },
  "interpreter": {
   "hash": "772ceb515ad4a229c201202a382457a25ed4681969a0e6962f15f573201a5bfb"
  }
 },
 "nbformat": 4,
 "nbformat_minor": 2
}