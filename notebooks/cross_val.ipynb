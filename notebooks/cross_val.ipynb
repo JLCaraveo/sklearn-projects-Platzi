{
 "cells": [
  {
   "cell_type": "code",
   "execution_count": 1,
   "source": [
    "import pandas as pd\n",
    "import numpy as np\n",
    "\n",
    "from sklearn.tree import DecisionTreeRegressor\n",
    "\n",
    "from sklearn.model_selection import cross_val_score, KFold"
   ],
   "outputs": [],
   "metadata": {}
  },
  {
   "cell_type": "code",
   "execution_count": 3,
   "source": [
    "\n",
    "dataset = pd.read_csv('../data/raw/felicidad.csv')\n",
    "\n",
    "x = dataset.drop(['country', 'score'], axis=1)\n",
    "y = dataset['score']\n",
    "\n",
    "model = DecisionTreeRegressor()\n",
    "score = cross_val_score(model, x,y, scoring='neg_mean_squared_error', cv=3)\n",
    "\n",
    "print(np.abs(np.mean(score)))"
   ],
   "outputs": [
    {
     "output_type": "stream",
     "name": "stdout",
     "text": [
      "2.011634960781272\n"
     ]
    }
   ],
   "metadata": {}
  },
  {
   "cell_type": "code",
   "execution_count": 4,
   "source": [
    "kf = KFold(n_splits=3, shuffle=True, random_state=42)\n",
    "\n",
    "for train, test in kf.split(dataset):\n",
    "    print(train)\n",
    "    print(test)"
   ],
   "outputs": [
    {
     "output_type": "stream",
     "name": "stdout",
     "text": [
      "[  0   1   3   4   5   7   8  10  13  14  17  20  21  23  25  27  28  32\n",
      "  33  34  35  37  38  39  40  41  43  44  46  47  48  49  50  52  53  54\n",
      "  57  58  59  61  62  63  64  65  69  70  71  72  73  74  77  79  80  81\n",
      "  83  84  86  87  88  89  90  91  92  93  99 102 103 106 107 110 111 112\n",
      " 113 114 115 116 117 121 122 123 124 125 127 128 129 130 134 137 138 139\n",
      " 140 142 144 145 146 149 150 151 152 153 154 155 156 157 159 161 162 163\n",
      " 164 165 166]\n",
      "[  2   6   9  11  12  15  16  18  19  22  24  26  29  30  31  36  42  45\n",
      "  51  55  56  60  66  67  68  75  76  78  82  85  94  95  96  97  98 100\n",
      " 101 104 105 108 109 118 119 120 126 131 132 133 135 136 141 143 147 148\n",
      " 158 160]\n",
      "[  1   2   6   7   8   9  11  12  13  14  15  16  17  18  19  20  21  22\n",
      "  24  26  29  30  31  34  36  37  42  43  45  46  48  50  51  52  54  55\n",
      "  56  57  58  59  60  63  66  67  68  70  71  72  74  75  76  78  82  83\n",
      "  85  87  88  89  91  92  94  95  96  97  98  99 100 101 102 103 104 105\n",
      " 106 107 108 109 110 113 116 118 119 120 121 126 128 129 130 131 132 133\n",
      " 135 136 138 141 142 143 145 147 148 149 150 151 152 153 157 158 159 160\n",
      " 161 164 166]\n",
      "[  0   3   4   5  10  23  25  27  28  32  33  35  38  39  40  41  44  47\n",
      "  49  53  61  62  64  65  69  73  77  79  80  81  84  86  90  93 111 112\n",
      " 114 115 117 122 123 124 125 127 134 137 139 140 144 146 154 155 156 162\n",
      " 163 165]\n",
      "[  0   2   3   4   5   6   9  10  11  12  15  16  18  19  22  23  24  25\n",
      "  26  27  28  29  30  31  32  33  35  36  38  39  40  41  42  44  45  47\n",
      "  49  51  53  55  56  60  61  62  64  65  66  67  68  69  73  75  76  77\n",
      "  78  79  80  81  82  84  85  86  90  93  94  95  96  97  98 100 101 104\n",
      " 105 108 109 111 112 114 115 117 118 119 120 122 123 124 125 126 127 131\n",
      " 132 133 134 135 136 137 139 140 141 143 144 146 147 148 154 155 156 158\n",
      " 160 162 163 165]\n",
      "[  1   7   8  13  14  17  20  21  34  37  43  46  48  50  52  54  57  58\n",
      "  59  63  70  71  72  74  83  87  88  89  91  92  99 102 103 106 107 110\n",
      " 113 116 121 128 129 130 138 142 145 149 150 151 152 153 157 159 161 164\n",
      " 166]\n"
     ]
    }
   ],
   "metadata": {}
  },
  {
   "cell_type": "code",
   "execution_count": null,
   "source": [],
   "outputs": [],
   "metadata": {}
  }
 ],
 "metadata": {
  "orig_nbformat": 4,
  "language_info": {
   "name": "python",
   "version": "3.7.10",
   "mimetype": "text/x-python",
   "codemirror_mode": {
    "name": "ipython",
    "version": 3
   },
   "pygments_lexer": "ipython3",
   "nbconvert_exporter": "python",
   "file_extension": ".py"
  },
  "kernelspec": {
   "name": "python3",
   "display_name": "Python 3.7.10 64-bit ('base': conda)"
  },
  "interpreter": {
   "hash": "772ceb515ad4a229c201202a382457a25ed4681969a0e6962f15f573201a5bfb"
  }
 },
 "nbformat": 4,
 "nbformat_minor": 2
}